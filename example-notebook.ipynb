{
 "cells": [
  {
   "attachments": {},
   "cell_type": "markdown",
   "metadata": {},
   "source": [
    "# PyTorch Hooks\n",
    "\n",
    "### Initialization"
   ]
  },
  {
   "cell_type": "code",
   "execution_count": 2,
   "metadata": {},
   "outputs": [],
   "source": [
    "import numpy as np\n",
    "\n",
    "import torch\n",
    "import torch.nn as nn\n",
    "from torchvision.models import resnet50, ResNet50_Weights\n",
    "\n",
    "from collections import OrderedDict \n",
    "\n",
    "from torch.optim import Adam\n",
    "from torch.optim.lr_scheduler import StepLR"
   ]
  },
  {
   "cell_type": "code",
   "execution_count": 3,
   "metadata": {},
   "outputs": [
    {
     "data": {
      "text/plain": [
       "<torch._C.Generator at 0x25115405a10>"
      ]
     },
     "execution_count": 3,
     "metadata": {},
     "output_type": "execute_result"
    }
   ],
   "source": [
    "seed_value = 0\n",
    "np.random.seed(seed_value)\n",
    "torch.manual_seed(seed_value)"
   ]
  },
  {
   "attachments": {},
   "cell_type": "markdown",
   "metadata": {},
   "source": [
    "### Model"
   ]
  },
  {
   "cell_type": "code",
   "execution_count": 4,
   "metadata": {},
   "outputs": [],
   "source": [
    "class NewModel(nn.Module):\n",
    "    def __init__(self, output_layers, *args):\n",
    "        super().__init__(*args)\n",
    "        self.output_layers = output_layers\n",
    "        \n",
    "        # Pretrained model we will be using\n",
    "        self.pretrained = resnet50(weights=ResNet50_Weights.DEFAULT)\n",
    "        \n",
    "        # Where the output of the hooks will be stored\n",
    "        self.selected_out = OrderedDict()\n",
    "\n",
    "        # Register the forward hook on the given output layers\n",
    "        # Forward Hook is triggered every time after the method foward of the Pytorch AutoGrad Function grad_fn\n",
    "        # We can modify the output by returning the modified output from the hook. \n",
    "        # Using forward_pre_hook the user can modify the input but returning the modified input value as a tuple or just a single modified value in the hook.\n",
    "        self.fhooks = []\n",
    "        for i, l in enumerate(list(self.pretrained._modules.keys())):\n",
    "            if i in self.output_layers:\n",
    "                self.fhooks.append(getattr(self.pretrained,l).register_forward_hook(self.custom_forward_hook(l)))\n",
    "        \n",
    "        self.bhooks = []\n",
    "\n",
    "    def custom_forward_hook(self, layer_name):\n",
    "        def hook(module, input, output):\n",
    "            self.selected_out[layer_name] = output\n",
    "\n",
    "        return hook\n",
    "\n",
    "    def forward(self, x):\n",
    "        out = self.pretrained(x)\n",
    "        return out, self.selected_out"
   ]
  },
  {
   "attachments": {},
   "cell_type": "markdown",
   "metadata": {},
   "source": [
    "### Testing"
   ]
  },
  {
   "cell_type": "code",
   "execution_count": 5,
   "metadata": {},
   "outputs": [
    {
     "name": "stderr",
     "output_type": "stream",
     "text": [
      "Downloading: \"https://download.pytorch.org/models/resnet50-11ad3fa6.pth\" to C:\\Users\\diogo/.cache\\torch\\hub\\checkpoints\\resnet50-11ad3fa6.pth\n",
      "100.0%\n"
     ]
    },
    {
     "name": "stdout",
     "output_type": "stream",
     "text": [
      "tensor([[[0.6515, 0.3627, 0.9136,  ..., 0.9496, 0.1896, 0.8063],\n",
      "         [0.1327, 0.1769, 0.8374,  ..., 0.2746, 0.0749, 0.2727],\n",
      "         [0.9443, 0.6604, 0.7327,  ..., 0.4276, 0.6980, 0.0976],\n",
      "         ...,\n",
      "         [0.3596, 0.6810, 0.3878,  ..., 0.1851, 0.2005, 0.7427],\n",
      "         [0.5954, 0.5774, 0.9878,  ..., 0.1426, 0.7741, 0.1874],\n",
      "         [0.6988, 0.8268, 0.1948,  ..., 0.0867, 0.1275, 0.6169]],\n",
      "\n",
      "        [[0.5213, 0.2335, 0.1328,  ..., 0.8023, 0.3130, 0.7500],\n",
      "         [0.9003, 0.7355, 0.3945,  ..., 0.9670, 0.0738, 0.5304],\n",
      "         [0.3885, 0.4687, 0.2886,  ..., 0.7229, 0.3495, 0.2906],\n",
      "         ...,\n",
      "         [0.2004, 0.1805, 0.9476,  ..., 0.9128, 0.7163, 0.7619],\n",
      "         [0.4754, 0.2336, 0.4802,  ..., 0.9757, 0.3688, 0.0140],\n",
      "         [0.6812, 0.4794, 0.3241,  ..., 0.8627, 0.9429, 0.8025]],\n",
      "\n",
      "        [[0.4981, 0.2675, 0.1235,  ..., 0.6680, 0.3709, 0.1518],\n",
      "         [0.9828, 0.0543, 0.7974,  ..., 0.3167, 0.8277, 0.9925],\n",
      "         [0.1653, 0.5710, 0.0242,  ..., 0.0428, 0.1086, 0.1642],\n",
      "         ...,\n",
      "         [0.8564, 0.1557, 0.9485,  ..., 0.9208, 0.3879, 0.3283],\n",
      "         [0.3564, 0.9257, 0.5058,  ..., 0.3569, 0.6391, 0.1731],\n",
      "         [0.0323, 0.9823, 0.0512,  ..., 0.9788, 0.2514, 0.6501]],\n",
      "\n",
      "        ...,\n",
      "\n",
      "        [[0.2867, 0.9321, 0.2698,  ..., 0.6556, 0.8782, 0.4870],\n",
      "         [0.2991, 0.3648, 0.6512,  ..., 0.5987, 0.1082, 0.4912],\n",
      "         [0.6990, 0.5438, 0.1004,  ..., 0.1957, 0.5978, 0.7575],\n",
      "         ...,\n",
      "         [0.0317, 0.6990, 0.6609,  ..., 0.5448, 0.7679, 0.0059],\n",
      "         [0.3180, 0.7638, 0.1548,  ..., 0.4024, 0.1603, 0.2674],\n",
      "         [0.3532, 0.0574, 0.1430,  ..., 0.8855, 0.8115, 0.5828]],\n",
      "\n",
      "        [[0.5857, 0.5099, 0.5897,  ..., 0.8659, 0.5343, 0.9815],\n",
      "         [0.2967, 0.5168, 0.4399,  ..., 0.5157, 0.8720, 0.2923],\n",
      "         [0.4480, 0.1118, 0.9081,  ..., 0.0514, 0.7867, 0.2278],\n",
      "         ...,\n",
      "         [0.8752, 0.7876, 0.4676,  ..., 0.4858, 0.1230, 0.6022],\n",
      "         [0.5886, 0.0430, 0.7777,  ..., 0.8365, 0.0863, 0.4919],\n",
      "         [0.8256, 0.4022, 0.8439,  ..., 0.9044, 0.1729, 0.4290]],\n",
      "\n",
      "        [[0.5109, 0.0104, 0.5001,  ..., 0.4656, 0.5538, 0.9588],\n",
      "         [0.6599, 0.5472, 0.7858,  ..., 0.4409, 0.9287, 0.6689],\n",
      "         [0.6480, 0.1990, 0.1915,  ..., 0.4044, 0.8036, 0.1468],\n",
      "         ...,\n",
      "         [0.2102, 0.8156, 0.9097,  ..., 0.0536, 0.1614, 0.1013],\n",
      "         [0.1124, 0.6117, 0.4721,  ..., 0.9713, 0.5230, 0.1496],\n",
      "         [0.9598, 0.2282, 0.0724,  ..., 0.2897, 0.7173, 0.0516]]])\n"
     ]
    }
   ],
   "source": [
    "# 7 -> layer4\n",
    "# 8 -> avgpool\n",
    "model = NewModel(output_layers = [7,8])\n",
    "\n",
    "# Random array with the dimension of the layer 4\n",
    "target_ft = torch.rand((2048,8,8))\n",
    "\n",
    "learning_rate = 0.00001\n",
    "params = [p for p in model.parameters() if p.requires_grad]\n",
    "optimizer = Adam(params, lr=learning_rate)\n",
    "lr_scheduler = StepLR(optimizer, step_size=1, gamma=0.9)"
   ]
  },
  {
   "cell_type": "code",
   "execution_count": 6,
   "metadata": {},
   "outputs": [],
   "source": [
    "# Define the Image\n",
    "batch_size = 1\n",
    "channels = 3\n",
    "height = 256\n",
    "width = 256\n",
    "\n",
    "image_array = np.random.randint(0, 256, size=(batch_size, channels, height, width)).astype('float32')\n",
    "x = torch.from_numpy(image_array)\n",
    "\n",
    "out, layerout = model(x)\n",
    "layer4out = layerout['layer4']"
   ]
  }
 ],
 "metadata": {
  "kernelspec": {
   "display_name": "Python 3",
   "language": "python",
   "name": "python3"
  },
  "language_info": {
   "codemirror_mode": {
    "name": "ipython",
    "version": 3
   },
   "file_extension": ".py",
   "mimetype": "text/x-python",
   "name": "python",
   "nbconvert_exporter": "python",
   "pygments_lexer": "ipython3",
   "version": "3.11.5"
  },
  "orig_nbformat": 4
 },
 "nbformat": 4,
 "nbformat_minor": 2
}
